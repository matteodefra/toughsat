{
 "cells": [
  {
   "cell_type": "code",
   "execution_count": null,
   "metadata": {},
   "outputs": [],
   "source": [
    "import pickle\n",
    "import matplotlib.pyplot as plt\n",
    "import networkx as nx"
   ]
  },
  {
   "cell_type": "code",
   "execution_count": null,
   "metadata": {},
   "outputs": [],
   "source": [
    "with open( \"graphs/instances.pkl\", \"rb\" ) as f:\n",
    "  dic = pickle.load( f )"
   ]
  },
  {
   "cell_type": "code",
   "execution_count": null,
   "metadata": {},
   "outputs": [],
   "source": [
    "dic[(11, 29)]"
   ]
  },
  {
   "cell_type": "code",
   "execution_count": null,
   "metadata": {},
   "outputs": [],
   "source": [
    "for k,v in dic.items():\n",
    "  fig = plt.figure(figsize=(15, 15)) \n",
    "  p = k[0]\n",
    "  q = k[1]\n",
    "  print( f\"Primes: {p} and {q}\" )\n",
    "  print( f\"Max degree graph: {v['Max_deg']}\" )\n",
    "\n",
    "  G = v['Easy_G']\n",
    "  # Throw away all singletons\n",
    "  # G.remove_nodes_from( list(nx.isolates(G)) )\n",
    "\n",
    "  nx.draw( G, node_size=60 )\n",
    "  plt.show()"
   ]
  },
  {
   "cell_type": "code",
   "execution_count": null,
   "metadata": {},
   "outputs": [],
   "source": [
    "with open( \"graphs/filtered_instances.pkl\", \"rb\" ) as f:\n",
    "  new_dic = pickle.load( f )"
   ]
  },
  {
   "cell_type": "code",
   "execution_count": null,
   "metadata": {},
   "outputs": [],
   "source": [
    "for k,v in new_dic.items():\n",
    "  fig = plt.figure(figsize=(15, 15)) \n",
    "  p = k[0]\n",
    "  q = k[1]\n",
    "  print( f\"Primes: {p} and {q}\" )\n",
    "  print( f\"Max degree graph: {v['Max_deg']}\" )\n",
    "\n",
    "  G = v['Easy_G']\n",
    "  # Throw away all singletons\n",
    "  G.remove_nodes_from( list(nx.isolates(G)) )\n",
    "\n",
    "  nx.draw( G, node_size=60 )\n",
    "  plt.show()"
   ]
  },
  {
   "cell_type": "code",
   "execution_count": null,
   "metadata": {},
   "outputs": [],
   "source": []
  }
 ],
 "metadata": {
  "kernelspec": {
   "display_name": "myenv",
   "language": "python",
   "name": "python3"
  },
  "language_info": {
   "codemirror_mode": {
    "name": "ipython",
    "version": 3
   },
   "file_extension": ".py",
   "mimetype": "text/x-python",
   "name": "python",
   "nbconvert_exporter": "python",
   "pygments_lexer": "ipython3",
   "version": "3.10.12"
  }
 },
 "nbformat": 4,
 "nbformat_minor": 2
}
